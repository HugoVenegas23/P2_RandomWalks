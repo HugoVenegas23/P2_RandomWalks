{
  "nbformat": 4,
  "nbformat_minor": 0,
  "metadata": {
    "colab": {
      "provenance": [],
      "authorship_tag": "ABX9TyNfe4vhvdzqP7eePFOFVdlx",
      "include_colab_link": true
    },
    "kernelspec": {
      "name": "python3",
      "display_name": "Python 3"
    },
    "language_info": {
      "name": "python"
    }
  },
  "cells": [
    {
      "cell_type": "markdown",
      "metadata": {
        "id": "view-in-github",
        "colab_type": "text"
      },
      "source": [
        "<a href=\"https://colab.research.google.com/github/HugoVenegas23/P2_RandomWalks/blob/main/P2_RandomWalksII_HEGV.ipynb\" target=\"_parent\"><img src=\"https://colab.research.google.com/assets/colab-badge.svg\" alt=\"Open In Colab\"/></a>"
      ]
    },
    {
      "cell_type": "markdown",
      "source": [
        "#P2 Random Walks II\n",
        "**Nombre**: Hugo Esteba González Venegas\n",
        "\n",
        "**e-mail**: hugo.gonzalez0181@alumnos.udg.mx"
      ],
      "metadata": {
        "id": "GdDUmIMkO9II"
      }
    },
    {
      "cell_type": "code",
      "execution_count": null,
      "metadata": {
        "id": "8oamsVThOF2G"
      },
      "outputs": [],
      "source": []
    }
  ]
}