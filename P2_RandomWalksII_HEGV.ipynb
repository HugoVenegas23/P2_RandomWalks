{
  "nbformat": 4,
  "nbformat_minor": 0,
  "metadata": {
    "colab": {
      "provenance": [],
      "authorship_tag": "ABX9TyOqLA4UoFjgesV1riT4iOmt",
      "include_colab_link": true
    },
    "kernelspec": {
      "name": "python3",
      "display_name": "Python 3"
    },
    "language_info": {
      "name": "python"
    }
  },
  "cells": [
    {
      "cell_type": "markdown",
      "metadata": {
        "id": "view-in-github",
        "colab_type": "text"
      },
      "source": [
        "<a href=\"https://colab.research.google.com/github/HugoVenegas23/P2_RandomWalks/blob/main/P2_RandomWalksII_HEGV.ipynb\" target=\"_parent\"><img src=\"https://colab.research.google.com/assets/colab-badge.svg\" alt=\"Open In Colab\"/></a>"
      ]
    },
    {
      "cell_type": "markdown",
      "source": [
        "#P2 Random Walks II\n",
        "**Nombre**: Hugo Esteba González Venegas\n",
        "\n",
        "**e-mail**: hugo.gonzalez0181@alumnos.udg.mx"
      ],
      "metadata": {
        "id": "GdDUmIMkO9II"
      }
    },
    {
      "cell_type": "markdown",
      "source": [
        "##Modulos\n"
      ],
      "metadata": {
        "id": "SWphqkDhReZW"
      }
    },
    {
      "cell_type": "code",
      "execution_count": 1,
      "metadata": {
        "id": "8oamsVThOF2G"
      },
      "outputs": [],
      "source": [
        "import math\n",
        "import numpy as np\n",
        "import matplotlib.pyplot as plt\n",
        "import pandas as pd\n",
        "\n",
        "from plotly.subplots import make_subplots\n",
        "import plotly.graph_objects as go\n",
        "\n",
        "\n",
        "from scipy.stats import wrapcauchy\n",
        "from scipy.stats import levy_stable"
      ]
    },
    {
      "cell_type": "markdown",
      "source": [
        "##Clases"
      ],
      "metadata": {
        "id": "nQbUIlmwRjwZ"
      }
    },
    {
      "cell_type": "code",
      "source": [
        "################# http://www.pygame.org/wiki/2DVectorClass ##################\n",
        "class Vec2d(object):\n",
        "    \"\"\"2d vector class, supports vector and scalar operators,\n",
        "       and also provides a bunch of high level functions\n",
        "       \"\"\"\n",
        "    __slots__ = ['x', 'y']\n",
        "\n",
        "    def __init__(self, x_or_pair, y = None):\n",
        "        if y == None:\n",
        "            self.x = x_or_pair[0]\n",
        "            self.y = x_or_pair[1]\n",
        "        else:\n",
        "            self.x = x_or_pair\n",
        "            self.y = y\n",
        "\n",
        "    # Addition\n",
        "    def __add__(self, other):\n",
        "        if isinstance(other, Vec2d):\n",
        "            return Vec2d(self.x + other.x, self.y + other.y)\n",
        "        elif hasattr(other, \"__getitem__\"):\n",
        "            return Vec2d(self.x + other[0], self.y + other[1])\n",
        "        else:\n",
        "            return Vec2d(self.x + other, self.y + other)\n",
        "\n",
        "    # Subtraction\n",
        "    def __sub__(self, other):\n",
        "        if isinstance(other, Vec2d):\n",
        "            return Vec2d(self.x - other.x, self.y - other.y)\n",
        "        elif (hasattr(other, \"__getitem__\")):\n",
        "            return Vec2d(self.x - other[0], self.y - other[1])\n",
        "        else:\n",
        "            return Vec2d(self.x - other, self.y - other)\n",
        "\n",
        "    # Vector length\n",
        "    def get_length(self):\n",
        "        return math.sqrt(self.x**2 + self.y**2)\n",
        "\n",
        "    # rotate vector\n",
        "    def rotated(self, angle):\n",
        "        cos = math.cos(angle)\n",
        "        sin = math.sin(angle)\n",
        "        x = self.x*cos - self.y*sin\n",
        "        y = self.x*sin + self.y*cos\n",
        "        return Vec2d(x, y)"
      ],
      "metadata": {
        "id": "4OYYTWLQRizz"
      },
      "execution_count": 2,
      "outputs": []
    },
    {
      "cell_type": "markdown",
      "source": [
        "## Actividad 1: Lévy distribution - N Curves (3 pts)\n",
        "\n",
        "* Generar al menos las 4 curvas de distribución timpo Lévy stable que se observan en la imagen\n",
        "* Visualizar con **plotly**\n",
        "\n",
        "* Parametros m = 3.0, Levy_exponent = x, beta = 0"
      ],
      "metadata": {
        "id": "0hqcPvfFRtlk"
      }
    },
    {
      "cell_type": "markdown",
      "source": [
        "## Actividad 2: Lévy distribution - Histogram + Curve (4 pts)\n",
        "\n",
        "* A partir de un conjunto de valores aleatorios extraidos de una distribución tipo Lévy stable, obtener su histograma y comparar con la curva correspondiente PDF\n",
        "* Visualizar con **matplotlib**"
      ],
      "metadata": {
        "id": "PLZ3p4gbRyUL"
      }
    },
    {
      "cell_type": "markdown",
      "source": [
        "## Actividad 3: Lévy ﬂight - Vec2d - 1 Trajectory (6 pts)\n",
        "\n",
        "* Utilizar **Vec2d**\n",
        "* Guardar trayectorias en **Pandas** Data Frame\n",
        "* Visualizar proyección en 3d con **plotly**"
      ],
      "metadata": {
        "id": "-cGwQjR1R4hM"
      }
    },
    {
      "cell_type": "markdown",
      "source": [
        "## Actividad 4: Correlated Random Walk - Vec2d - N Trajectories (7 pts)\n",
        "\n",
        "* Generar tantas trayectorias tipo CRW como se especifique en una variable n_traj\n",
        "* Cada una de las trayectorias debera tener un coeficiente de Cauchy diferente\n",
        "* Utilizar **Vec2d**\n",
        "* Guardar trayectorias en **Pandas** Data Frame\n",
        "* Visualizar proyección en 3d con **plotly**\n",
        "* Exportar trayectorias como *pkl*"
      ],
      "metadata": {
        "id": "ub5L-2-XR73Z"
      }
    },
    {
      "cell_type": "code",
      "source": [],
      "metadata": {
        "id": "uyHqkC2fR7nf"
      },
      "execution_count": null,
      "outputs": []
    },
    {
      "cell_type": "code",
      "source": [],
      "metadata": {
        "id": "QHLCk-wSRn8v"
      },
      "execution_count": null,
      "outputs": []
    }
  ]
}